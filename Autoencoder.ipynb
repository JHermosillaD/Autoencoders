{
 "cells": [
  {
   "cell_type": "markdown",
   "id": "4db14f96-3e92-4c38-aecb-14d8b0f14940",
   "metadata": {},
   "source": [
    "# Autoencoders"
   ]
  },
  {
   "cell_type": "code",
   "execution_count": 1,
   "id": "d97dde49-e623-40c6-b756-1d16da88878c",
   "metadata": {},
   "outputs": [
    {
     "name": "stderr",
     "output_type": "stream",
     "text": [
      "/home/jhermosilla/.local/lib/python3.10/site-packages/pandas/core/computation/expressions.py:21: UserWarning: Pandas requires version '2.8.4' or newer of 'numexpr' (version '2.8.1' currently installed).\n",
      "  from pandas.core.computation.check import NUMEXPR_INSTALLED\n",
      "/home/jhermosilla/.local/lib/python3.10/site-packages/pandas/core/arrays/masked.py:60: UserWarning: Pandas requires version '1.3.6' or newer of 'bottleneck' (version '1.3.2' currently installed).\n",
      "  from pandas.core import (\n",
      "/home/jhermosilla/.local/lib/python3.10/site-packages/matplotlib/projections/__init__.py:63: UserWarning: Unable to import Axes3D. This may be due to multiple versions of Matplotlib being installed (e.g. as a system package and as a pip package). As a result, the 3D projection is not available.\n",
      "  warnings.warn(\"Unable to import Axes3D. This may be due to multiple versions of \"\n"
     ]
    }
   ],
   "source": [
    "import torch\n",
    "import torch.nn as nn\n",
    "\n",
    "import skorch\n",
    "from skorch import NeuralNetRegressor\n",
    "from sklearn.model_selection import GridSearchCV\n",
    "\n",
    "import torchvision.datasets as datasets\n",
    "import torchvision.transforms as transforms\n",
    "\n",
    "import matplotlib.pyplot as plt\n",
    "import pandas as pd"
   ]
  },
  {
   "cell_type": "code",
   "execution_count": 2,
   "id": "6fc7f82f-423b-40d8-a4ba-7097e764c1a3",
   "metadata": {},
   "outputs": [],
   "source": [
    "if torch.cuda.is_available():\n",
    "    dev = \"cuda:0\"\n",
    "else:\n",
    "    dev = \"cpu\""
   ]
  },
  {
   "cell_type": "code",
   "execution_count": 3,
   "id": "4ed39934-8917-4376-a0ca-4bb6bdf56b82",
   "metadata": {},
   "outputs": [
    {
     "name": "stdout",
     "output_type": "stream",
     "text": [
      "Files already downloaded and verified\n"
     ]
    }
   ],
   "source": [
    "train_set = datasets.CIFAR10(root='./data',\n",
    "                             train=True,\n",
    "                             download=True,\n",
    "                             transform=transforms.Compose([transforms.ToTensor()]))"
   ]
  },
  {
   "cell_type": "markdown",
   "id": "9d450ea4-3d0b-4d19-990e-939e3d59304b",
   "metadata": {},
   "source": [
    "## Architecture"
   ]
  },
  {
   "cell_type": "code",
   "execution_count": 4,
   "id": "ea0fdc5c-37f3-4f45-bbbf-205c936002f7",
   "metadata": {},
   "outputs": [],
   "source": [
    "class Autoencoder(nn.Module):\n",
    "    def __init__(self, input_dim, latent_dim):\n",
    "        super(Autoencoder, self).__init__()\n",
    "        self.encoder = nn.Sequential(\n",
    "            nn.Linear(input_dim, 1024),\n",
    "            nn.ReLU(),\n",
    "            nn.Linear(1024, 512),\n",
    "            nn.ReLU(),\n",
    "            nn.Linear(512, latent_dim),\n",
    "            nn.ReLU(),\n",
    "        )\n",
    "        self.decoder = nn.Sequential(\n",
    "            nn.Linear(latent_dim, 512),\n",
    "            nn.ReLU(),\n",
    "            nn.Linear(512, 1024),\n",
    "            nn.ReLU(),\n",
    "            nn.Linear(1024, input_dim),\n",
    "            nn.Sigmoid())\n",
    "\n",
    "    def forward(self, x):\n",
    "        x = x.view(x.size(0), -1)\n",
    "        latent = self.encoder(x)\n",
    "        reconstructed = self.decoder(latent)\n",
    "        return reconstructed"
   ]
  },
  {
   "cell_type": "markdown",
   "id": "4c1096c3-cfee-4d24-a3ad-e48fbf826be9",
   "metadata": {},
   "source": [
    "## 1. Hyperparameter Search"
   ]
  },
  {
   "cell_type": "code",
   "execution_count": 5,
   "id": "b10bf896-6045-4235-a632-7275ac86dcd8",
   "metadata": {},
   "outputs": [],
   "source": [
    "features = torch.stack([train_set[i][0].view(-1) for i in range(len(train_set))]).numpy()\n",
    "targets = features"
   ]
  },
  {
   "cell_type": "code",
   "execution_count": 6,
   "id": "0f4315a5-fac7-44b5-9d57-8d7d907881b2",
   "metadata": {},
   "outputs": [],
   "source": [
    "earlystopping = skorch.callbacks.EarlyStopping(monitor = 'train_loss', lower_is_better = False, patience = 10)\n",
    "checkpoint = skorch.callbacks.Checkpoint(monitor = 'train_loss_best')"
   ]
  },
  {
   "cell_type": "code",
   "execution_count": 7,
   "id": "657718ee-22ee-4f4c-90ac-af10efb3c91f",
   "metadata": {},
   "outputs": [],
   "source": [
    "AutoencoderModel = NeuralNetRegressor(module=Autoencoder,\n",
    "                                      module__input_dim=32 * 32 * 3, \n",
    "                                      module__latent_dim=128, \n",
    "                                      callbacks = [earlystopping, checkpoint],\n",
    "                                      criterion=nn.MSELoss,\n",
    "                                      train_split=None,\n",
    "                                      max_epochs=15,                                        \n",
    "                                      batch_size=64,\n",
    "                                      device=dev,\n",
    "                                      lr=0.01)"
   ]
  },
  {
   "cell_type": "code",
   "execution_count": 8,
   "id": "3420f109-dfcf-45c3-b9f0-c0d19924cfc8",
   "metadata": {},
   "outputs": [],
   "source": [
    "GridModel = {'lr': [0.0001, 0.001, 0.01],\n",
    "             'batch_size': [32, 64]}"
   ]
  },
  {
   "cell_type": "code",
   "execution_count": 9,
   "id": "0dccc107-b0a8-437b-9ae5-c707a72ad0e8",
   "metadata": {},
   "outputs": [],
   "source": [
    "grid_search = GridSearchCV(AutoencoderModel,\n",
    "                           param_grid=GridModel,\n",
    "                           scoring='neg_mean_squared_error',\n",
    "                           refit=True,                       \n",
    "                           cv=2,                             \n",
    "                           verbose=1)"
   ]
  },
  {
   "cell_type": "code",
   "execution_count": 10,
   "id": "2aa4be26-0961-47bd-9fdc-a1537cc86a23",
   "metadata": {},
   "outputs": [
    {
     "name": "stdout",
     "output_type": "stream",
     "text": [
      "Fitting 2 folds for each of 6 candidates, totalling 12 fits\n",
      "  epoch    train_loss    cp     dur\n",
      "-------  ------------  ----  ------\n",
      "      1        \u001b[36m0.0638\u001b[0m     +  3.0749\n",
      "      2        \u001b[36m0.0638\u001b[0m     +  2.8411\n",
      "      3        \u001b[36m0.0638\u001b[0m     +  2.8573\n",
      "      4        \u001b[36m0.0638\u001b[0m     +  3.0905\n",
      "      5        \u001b[36m0.0638\u001b[0m     +  3.1417\n",
      "      6        \u001b[36m0.0638\u001b[0m     +  3.1412\n",
      "      7        \u001b[36m0.0638\u001b[0m     +  3.1555\n",
      "      8        \u001b[36m0.0638\u001b[0m     +  3.1398\n",
      "      9        \u001b[36m0.0638\u001b[0m     +  3.1466\n",
      "     10        \u001b[36m0.0638\u001b[0m     +  2.3144\n",
      "Stopping since train_loss has not improved in the last 10 epochs.\n",
      "  epoch    train_loss    cp     dur\n",
      "-------  ------------  ----  ------\n",
      "      1        \u001b[36m0.0643\u001b[0m     +  3.1457\n",
      "      2        \u001b[36m0.0643\u001b[0m     +  3.1857\n",
      "      3        \u001b[36m0.0643\u001b[0m     +  3.1570\n",
      "      4        \u001b[36m0.0643\u001b[0m     +  3.1390\n",
      "      5        \u001b[36m0.0643\u001b[0m     +  2.9823\n",
      "      6        \u001b[36m0.0643\u001b[0m     +  2.8624\n",
      "      7        \u001b[36m0.0643\u001b[0m     +  2.8319\n",
      "      8        \u001b[36m0.0643\u001b[0m     +  2.8323\n",
      "      9        \u001b[36m0.0643\u001b[0m     +  2.8419\n",
      "     10        \u001b[36m0.0643\u001b[0m     +  2.8435\n",
      "Stopping since train_loss has not improved in the last 10 epochs.\n",
      "  epoch    train_loss    cp     dur\n",
      "-------  ------------  ----  ------\n",
      "      1        \u001b[36m0.0638\u001b[0m     +  3.1365\n",
      "      2        \u001b[36m0.0638\u001b[0m     +  3.1169\n",
      "      3        \u001b[36m0.0638\u001b[0m     +  3.1526\n",
      "      4        \u001b[36m0.0638\u001b[0m     +  3.1640\n",
      "      5        \u001b[36m0.0638\u001b[0m     +  3.1709\n",
      "      6        \u001b[36m0.0638\u001b[0m     +  3.1775\n",
      "      7        \u001b[36m0.0638\u001b[0m     +  2.9670\n",
      "      8        \u001b[36m0.0638\u001b[0m     +  2.8455\n",
      "      9        \u001b[36m0.0638\u001b[0m     +  2.8334\n",
      "     10        \u001b[36m0.0638\u001b[0m     +  2.8276\n",
      "Stopping since train_loss has not improved in the last 10 epochs.\n",
      "  epoch    train_loss    cp     dur\n",
      "-------  ------------  ----  ------\n",
      "      1        \u001b[36m0.0643\u001b[0m     +  2.8395\n",
      "      2        \u001b[36m0.0643\u001b[0m     +  2.8744\n",
      "      3        \u001b[36m0.0643\u001b[0m     +  2.8520\n",
      "      4        \u001b[36m0.0643\u001b[0m     +  2.8601\n",
      "      5        \u001b[36m0.0643\u001b[0m     +  2.8281\n",
      "      6        \u001b[36m0.0643\u001b[0m     +  2.8391\n",
      "      7        \u001b[36m0.0643\u001b[0m     +  2.8445\n",
      "      8        \u001b[36m0.0643\u001b[0m     +  2.2718\n",
      "      9        \u001b[36m0.0643\u001b[0m     +  2.2705\n",
      "     10        \u001b[36m0.0643\u001b[0m     +  2.2683\n",
      "Stopping since train_loss has not improved in the last 10 epochs.\n",
      "  epoch    train_loss    cp     dur\n",
      "-------  ------------  ----  ------\n",
      "      1        \u001b[36m0.0638\u001b[0m     +  2.2675\n",
      "      2        \u001b[36m0.0638\u001b[0m     +  2.8761\n",
      "      3        \u001b[36m0.0638\u001b[0m     +  2.8551\n",
      "      4        \u001b[36m0.0638\u001b[0m     +  2.8756\n",
      "      5        \u001b[36m0.0638\u001b[0m     +  2.2894\n",
      "      6        \u001b[36m0.0638\u001b[0m     +  2.2995\n",
      "      7        \u001b[36m0.0637\u001b[0m     +  2.2745\n",
      "      8        \u001b[36m0.0637\u001b[0m     +  2.3518\n",
      "      9        \u001b[36m0.0637\u001b[0m     +  2.2965\n",
      "     10        \u001b[36m0.0637\u001b[0m     +  2.2774\n",
      "Stopping since train_loss has not improved in the last 10 epochs.\n",
      "  epoch    train_loss    cp     dur\n",
      "-------  ------------  ----  ------\n",
      "      1        \u001b[36m0.0643\u001b[0m     +  2.2766\n",
      "      2        \u001b[36m0.0643\u001b[0m     +  2.7905\n",
      "      3        \u001b[36m0.0643\u001b[0m     +  2.7043\n",
      "      4        \u001b[36m0.0643\u001b[0m     +  2.6818\n",
      "      5        \u001b[36m0.0643\u001b[0m     +  2.5978\n",
      "      6        \u001b[36m0.0643\u001b[0m     +  2.3089\n",
      "      7        \u001b[36m0.0643\u001b[0m     +  2.4034\n",
      "      8        \u001b[36m0.0643\u001b[0m     +  2.8080\n",
      "      9        \u001b[36m0.0643\u001b[0m     +  2.2763\n",
      "     10        \u001b[36m0.0643\u001b[0m     +  2.2832\n",
      "Stopping since train_loss has not improved in the last 10 epochs.\n",
      "  epoch    train_loss    cp     dur\n",
      "-------  ------------  ----  ------\n",
      "      1        \u001b[36m0.0638\u001b[0m     +  1.6020\n",
      "      2        \u001b[36m0.0638\u001b[0m     +  1.7358\n",
      "      3        \u001b[36m0.0638\u001b[0m     +  1.7277\n",
      "      4        \u001b[36m0.0638\u001b[0m     +  1.7261\n",
      "      5        \u001b[36m0.0638\u001b[0m     +  1.7510\n",
      "      6        \u001b[36m0.0638\u001b[0m     +  1.7400\n",
      "      7        \u001b[36m0.0638\u001b[0m     +  1.7572\n",
      "      8        \u001b[36m0.0638\u001b[0m     +  1.7393\n",
      "      9        \u001b[36m0.0638\u001b[0m     +  1.6827\n",
      "     10        \u001b[36m0.0638\u001b[0m     +  1.7361\n",
      "Stopping since train_loss has not improved in the last 10 epochs.\n",
      "  epoch    train_loss    cp     dur\n",
      "-------  ------------  ----  ------\n",
      "      1        \u001b[36m0.0643\u001b[0m     +  1.6979\n",
      "      2        \u001b[36m0.0643\u001b[0m     +  1.7408\n",
      "      3        \u001b[36m0.0643\u001b[0m     +  1.7435\n",
      "      4        \u001b[36m0.0643\u001b[0m     +  1.7324\n",
      "      5        \u001b[36m0.0643\u001b[0m     +  1.7404\n",
      "      6        \u001b[36m0.0643\u001b[0m     +  1.7033\n",
      "      7        \u001b[36m0.0643\u001b[0m     +  1.6910\n",
      "      8        \u001b[36m0.0643\u001b[0m     +  1.6269\n",
      "      9        \u001b[36m0.0643\u001b[0m     +  1.8062\n",
      "     10        \u001b[36m0.0643\u001b[0m     +  1.5754\n",
      "Stopping since train_loss has not improved in the last 10 epochs.\n",
      "  epoch    train_loss    cp     dur\n",
      "-------  ------------  ----  ------\n",
      "      1        \u001b[36m0.0638\u001b[0m     +  1.7289\n",
      "      2        \u001b[36m0.0638\u001b[0m     +  1.7359\n",
      "      3        \u001b[36m0.0638\u001b[0m     +  1.9138\n",
      "      4        \u001b[36m0.0638\u001b[0m     +  1.8028\n",
      "      5        \u001b[36m0.0638\u001b[0m     +  1.7172\n",
      "      6        \u001b[36m0.0638\u001b[0m     +  1.7728\n",
      "      7        \u001b[36m0.0638\u001b[0m     +  1.7123\n",
      "      8        \u001b[36m0.0638\u001b[0m     +  1.9870\n",
      "      9        \u001b[36m0.0638\u001b[0m     +  1.9140\n",
      "     10        \u001b[36m0.0638\u001b[0m     +  1.8172\n",
      "Stopping since train_loss has not improved in the last 10 epochs.\n",
      "  epoch    train_loss    cp     dur\n",
      "-------  ------------  ----  ------\n",
      "      1        \u001b[36m0.0643\u001b[0m     +  1.7154\n",
      "      2        \u001b[36m0.0643\u001b[0m     +  1.7373\n",
      "      3        \u001b[36m0.0643\u001b[0m     +  1.6072\n",
      "      4        \u001b[36m0.0643\u001b[0m     +  1.7014\n",
      "      5        \u001b[36m0.0643\u001b[0m     +  1.7722\n",
      "      6        \u001b[36m0.0643\u001b[0m     +  1.7806\n",
      "      7        \u001b[36m0.0643\u001b[0m     +  1.7419\n",
      "      8        \u001b[36m0.0643\u001b[0m     +  1.7292\n",
      "      9        \u001b[36m0.0643\u001b[0m     +  1.7496\n",
      "     10        \u001b[36m0.0643\u001b[0m     +  1.7460\n",
      "Stopping since train_loss has not improved in the last 10 epochs.\n",
      "  epoch    train_loss    cp     dur\n",
      "-------  ------------  ----  ------\n",
      "      1        \u001b[36m0.0638\u001b[0m     +  1.7265\n",
      "      2        \u001b[36m0.0638\u001b[0m     +  1.7428\n",
      "      3        \u001b[36m0.0638\u001b[0m     +  1.7509\n",
      "      4        \u001b[36m0.0638\u001b[0m     +  1.7499\n",
      "      5        \u001b[36m0.0638\u001b[0m     +  1.7390\n",
      "      6        \u001b[36m0.0638\u001b[0m     +  1.7443\n",
      "      7        \u001b[36m0.0638\u001b[0m     +  1.6611\n",
      "      8        \u001b[36m0.0638\u001b[0m     +  1.7404\n",
      "      9        \u001b[36m0.0638\u001b[0m     +  1.7331\n",
      "     10        \u001b[36m0.0638\u001b[0m     +  1.5868\n",
      "Stopping since train_loss has not improved in the last 10 epochs.\n",
      "  epoch    train_loss    cp     dur\n",
      "-------  ------------  ----  ------\n",
      "      1        \u001b[36m0.0643\u001b[0m     +  1.7063\n",
      "      2        \u001b[36m0.0643\u001b[0m     +  1.7341\n",
      "      3        \u001b[36m0.0643\u001b[0m     +  1.6097\n",
      "      4        \u001b[36m0.0643\u001b[0m     +  1.7522\n",
      "      5        \u001b[36m0.0643\u001b[0m     +  1.7492\n",
      "      6        \u001b[36m0.0643\u001b[0m     +  1.7571\n",
      "      7        \u001b[36m0.0643\u001b[0m     +  1.6187\n",
      "      8        \u001b[36m0.0643\u001b[0m     +  1.5791\n",
      "      9        \u001b[36m0.0643\u001b[0m     +  1.7418\n",
      "     10        \u001b[36m0.0643\u001b[0m     +  1.5856\n",
      "Stopping since train_loss has not improved in the last 10 epochs.\n",
      "  epoch    train_loss    cp     dur\n",
      "-------  ------------  ----  ------\n",
      "      1        \u001b[36m0.0640\u001b[0m     +  5.3416\n",
      "      2        \u001b[36m0.0640\u001b[0m     +  5.5493\n",
      "      3        \u001b[36m0.0640\u001b[0m     +  5.5869\n",
      "      4        \u001b[36m0.0640\u001b[0m     +  5.6562\n",
      "      5        \u001b[36m0.0640\u001b[0m     +  5.7452\n",
      "      6        \u001b[36m0.0640\u001b[0m     +  5.6517\n",
      "      7        \u001b[36m0.0640\u001b[0m     +  5.3157\n",
      "      8        \u001b[36m0.0640\u001b[0m     +  5.6295\n",
      "      9        \u001b[36m0.0640\u001b[0m     +  5.6113\n",
      "     10        \u001b[36m0.0640\u001b[0m     +  5.7124\n",
      "Stopping since train_loss has not improved in the last 10 epochs.\n"
     ]
    }
   ],
   "source": [
    "grid_result = grid_search.fit(features, targets)"
   ]
  },
  {
   "cell_type": "code",
   "execution_count": 11,
   "id": "d099b281-d0c5-4611-9c22-5b530f008027",
   "metadata": {
    "scrolled": true
   },
   "outputs": [
    {
     "name": "stdout",
     "output_type": "stream",
     "text": [
      "Best Parameters: {'batch_size': 32, 'lr': 0.01}\n",
      "Best Score: 0.06400994956493378\n"
     ]
    }
   ],
   "source": [
    "print(\"Best Parameters:\", grid_result.best_params_)\n",
    "print(\"Best Score:\", -grid_result.best_score_)\n",
    "grid_dict = grid_result.cv_results_"
   ]
  },
  {
   "cell_type": "code",
   "execution_count": 15,
   "id": "95fbe8e3-4f85-4e3a-8925-eedf2b57832f",
   "metadata": {
    "scrolled": true
   },
   "outputs": [
    {
     "data": {
      "text/html": [
       "<div>\n",
       "<style scoped>\n",
       "    .dataframe tbody tr th:only-of-type {\n",
       "        vertical-align: middle;\n",
       "    }\n",
       "\n",
       "    .dataframe tbody tr th {\n",
       "        vertical-align: top;\n",
       "    }\n",
       "\n",
       "    .dataframe thead th {\n",
       "        text-align: right;\n",
       "    }\n",
       "</style>\n",
       "<table border=\"1\" class=\"dataframe\">\n",
       "  <thead>\n",
       "    <tr style=\"text-align: right;\">\n",
       "      <th></th>\n",
       "      <th>param_lr</th>\n",
       "      <th>param_batch_size</th>\n",
       "      <th>mean_test_score</th>\n",
       "      <th>std_test_score</th>\n",
       "    </tr>\n",
       "    <tr>\n",
       "      <th>rank_test_score</th>\n",
       "      <th></th>\n",
       "      <th></th>\n",
       "      <th></th>\n",
       "      <th></th>\n",
       "    </tr>\n",
       "  </thead>\n",
       "  <tbody>\n",
       "    <tr>\n",
       "      <th>6</th>\n",
       "      <td>0.0001</td>\n",
       "      <td>32</td>\n",
       "      <td>0.064032</td>\n",
       "      <td>0.000265</td>\n",
       "    </tr>\n",
       "    <tr>\n",
       "      <th>4</th>\n",
       "      <td>0.0010</td>\n",
       "      <td>32</td>\n",
       "      <td>0.064029</td>\n",
       "      <td>0.000269</td>\n",
       "    </tr>\n",
       "    <tr>\n",
       "      <th>1</th>\n",
       "      <td>0.0100</td>\n",
       "      <td>32</td>\n",
       "      <td>0.064010</td>\n",
       "      <td>0.000258</td>\n",
       "    </tr>\n",
       "    <tr>\n",
       "      <th>5</th>\n",
       "      <td>0.0001</td>\n",
       "      <td>64</td>\n",
       "      <td>0.064030</td>\n",
       "      <td>0.000272</td>\n",
       "    </tr>\n",
       "    <tr>\n",
       "      <th>3</th>\n",
       "      <td>0.0010</td>\n",
       "      <td>64</td>\n",
       "      <td>0.064028</td>\n",
       "      <td>0.000266</td>\n",
       "    </tr>\n",
       "    <tr>\n",
       "      <th>2</th>\n",
       "      <td>0.0100</td>\n",
       "      <td>64</td>\n",
       "      <td>0.064016</td>\n",
       "      <td>0.000271</td>\n",
       "    </tr>\n",
       "  </tbody>\n",
       "</table>\n",
       "</div>"
      ],
      "text/plain": [
       "                 param_lr  param_batch_size  mean_test_score  std_test_score\n",
       "rank_test_score                                                             \n",
       "6                  0.0001                32         0.064032        0.000265\n",
       "4                  0.0010                32         0.064029        0.000269\n",
       "1                  0.0100                32         0.064010        0.000258\n",
       "5                  0.0001                64         0.064030        0.000272\n",
       "3                  0.0010                64         0.064028        0.000266\n",
       "2                  0.0100                64         0.064016        0.000271"
      ]
     },
     "execution_count": 15,
     "metadata": {},
     "output_type": "execute_result"
    }
   ],
   "source": [
    "pd.DataFrame({'param_lr': grid_dict['param_lr'],\n",
    "              'param_batch_size': grid_dict['param_batch_size'],\n",
    "              'mean_test_score': -grid_dict['mean_test_score'],\n",
    "              'std_test_score': grid_dict['std_test_score']},\n",
    "              index=pd.Index(grid_dict['rank_test_score'], name='rank_test_score'))"
   ]
  },
  {
   "cell_type": "markdown",
   "id": "0c0d696a-1dee-4397-99f5-42b8d1741a39",
   "metadata": {},
   "source": [
    "## 2. Reconstruction"
   ]
  },
  {
   "cell_type": "code",
   "execution_count": 18,
   "id": "c8c35a1b-b88f-4d65-b5bc-4a0d1eaf9213",
   "metadata": {},
   "outputs": [],
   "source": [
    "# Hyperparameters\n",
    "input_dimension_ = 32*32*3\n",
    "laten_dimension_ = 256\n",
    "learning_rate_   = 0.0001\n",
    "batch_size_     = 64\n",
    "num_epochs_      = 20"
   ]
  },
  {
   "cell_type": "code",
   "execution_count": 19,
   "id": "ed9a4e52-f571-4385-9bd4-d8e7604eb110",
   "metadata": {},
   "outputs": [],
   "source": [
    "train_loader = torch.utils.data.DataLoader(train_set, batch_size=batch_size_, shuffle=True)"
   ]
  },
  {
   "cell_type": "code",
   "execution_count": 20,
   "id": "3179c0f1-4780-43e7-8c61-93e6c7e6a69b",
   "metadata": {},
   "outputs": [
    {
     "data": {
      "text/plain": [
       "Autoencoder(\n",
       "  (encoder): Sequential(\n",
       "    (0): Linear(in_features=3072, out_features=1024, bias=True)\n",
       "    (1): ReLU()\n",
       "    (2): Linear(in_features=1024, out_features=512, bias=True)\n",
       "    (3): ReLU()\n",
       "    (4): Linear(in_features=512, out_features=256, bias=True)\n",
       "    (5): ReLU()\n",
       "  )\n",
       "  (decoder): Sequential(\n",
       "    (0): Linear(in_features=256, out_features=512, bias=True)\n",
       "    (1): ReLU()\n",
       "    (2): Linear(in_features=512, out_features=1024, bias=True)\n",
       "    (3): ReLU()\n",
       "    (4): Linear(in_features=1024, out_features=3072, bias=True)\n",
       "    (5): Sigmoid()\n",
       "  )\n",
       ")"
      ]
     },
     "execution_count": 20,
     "metadata": {},
     "output_type": "execute_result"
    }
   ],
   "source": [
    "model = Autoencoder(input_dimension_, laten_dimension_)\n",
    "model.to(dev)"
   ]
  },
  {
   "cell_type": "code",
   "execution_count": 21,
   "id": "16e7cced-695a-42b4-b6ed-c3417715b97e",
   "metadata": {},
   "outputs": [],
   "source": [
    "criterion = nn.MSELoss()\n",
    "optimizer = torch.optim.Adam(model.parameters(),\n",
    "                                          lr=learning_rate_,\n",
    "                                          betas=(0.9, 0.999),\n",
    "                                          eps=1e-08,\n",
    "                                          weight_decay=0,\n",
    "                                          amsgrad=False)"
   ]
  },
  {
   "cell_type": "code",
   "execution_count": 22,
   "id": "dee6f378-b8be-4167-b9b7-f23d815144be",
   "metadata": {},
   "outputs": [
    {
     "name": "stdout",
     "output_type": "stream",
     "text": [
      "Epoch [1/20], Loss: 0.0370\n",
      "Epoch [2/20], Loss: 0.0239\n",
      "Epoch [3/20], Loss: 0.0212\n",
      "Epoch [4/20], Loss: 0.0190\n",
      "Epoch [5/20], Loss: 0.0170\n",
      "Epoch [6/20], Loss: 0.0162\n",
      "Epoch [7/20], Loss: 0.0152\n",
      "Epoch [8/20], Loss: 0.0144\n",
      "Epoch [9/20], Loss: 0.0136\n",
      "Epoch [10/20], Loss: 0.0131\n",
      "Epoch [11/20], Loss: 0.0127\n",
      "Epoch [12/20], Loss: 0.0124\n",
      "Epoch [13/20], Loss: 0.0120\n",
      "Epoch [14/20], Loss: 0.0117\n",
      "Epoch [15/20], Loss: 0.0114\n",
      "Epoch [16/20], Loss: 0.0111\n",
      "Epoch [17/20], Loss: 0.0108\n",
      "Epoch [18/20], Loss: 0.0106\n",
      "Epoch [19/20], Loss: 0.0103\n",
      "Epoch [20/20], Loss: 0.0100\n"
     ]
    }
   ],
   "source": [
    "for epoch in range(num_epochs_):\n",
    "    model.train()\n",
    "    train_loss = 0.0\n",
    "    for images, _ in train_loader:\n",
    "        images = images.to(dev)\n",
    "        optimizer.zero_grad()\n",
    "        outputs = model(images)\n",
    "        loss = criterion(outputs, images.view(images.size(0), -1))\n",
    "        with torch.no_grad():\n",
    "          train_loss += loss.item()\n",
    "        optimizer.zero_grad()\n",
    "        loss.backward()\n",
    "        optimizer.step()        \n",
    "    train_loss /= len(train_loader)    \n",
    "    print(f\"Epoch [{epoch+1}/{num_epochs_}], Loss: {train_loss:.4f}\")"
   ]
  },
  {
   "cell_type": "code",
   "execution_count": 23,
   "id": "ecd80915-84e2-4161-9441-817abe868ab3",
   "metadata": {},
   "outputs": [],
   "source": [
    "with torch.no_grad():\n",
    "    for data, _ in train_loader:\n",
    "        data = data.to(dev)\n",
    "        recon = model(data)\n",
    "        break\n",
    "recon1 = recon.view(64, 3, 32, 32)"
   ]
  },
  {
   "cell_type": "code",
   "execution_count": 24,
   "id": "45457d43-5227-4d58-a3f1-9a5d7e4ff50b",
   "metadata": {},
   "outputs": [
    {
     "data": {
      "text/plain": [
       "<Figure size 1600x1200 with 0 Axes>"
      ]
     },
     "metadata": {},
     "output_type": "display_data"
    },
    {
     "data": {
      "image/png": "[encoded data removed]",
      "text/plain": [
       "<Figure size 1500x400 with 14 Axes>"
      ]
     },
     "metadata": {},
     "output_type": "display_data"
    }
   ],
   "source": [
    "import matplotlib.pyplot as plt\n",
    "plt.figure(dpi=250)\n",
    "fig, ax = plt.subplots(2, 7, figsize=(15, 4))\n",
    "for i in range(7):\n",
    "    ax[0, i].imshow(data[i].cpu().numpy().T)\n",
    "    ax[1, i].imshow(recon1[i].cpu().numpy().T)\n",
    "    ax[0, i].axis('OFF')\n",
    "    ax[1, i].axis('OFF')\n",
    "plt.show()"
   ]
  },
  {
   "cell_type": "code",
   "execution_count": null,
   "id": "135069e2-f60d-4dfd-842f-7634319b3d21",
   "metadata": {},
   "outputs": [],
   "source": []
  }
 ],
 "metadata": {
  "kernelspec": {
   "display_name": "Python 3 (ipykernel)",
   "language": "python",
   "name": "python3"
  },
  "language_info": {
   "codemirror_mode": {
    "name": "ipython",
    "version": 3
   },
   "file_extension": ".py",
   "mimetype": "text/x-python",
   "name": "python",
   "nbconvert_exporter": "python",
   "pygments_lexer": "ipython3",
   "version": "3.10.12"
  }
 },
 "nbformat": 4,
 "nbformat_minor": 5
}
